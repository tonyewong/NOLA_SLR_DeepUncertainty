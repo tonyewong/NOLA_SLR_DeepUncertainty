{
 "cells": [
  {
   "cell_type": "markdown",
   "metadata": {},
   "source": [
    "![actual brick](./brick_logo.png)\n",
    "\n",
    "# BRICK: Localized projections\n",
    "\n",
    "* Make localized projections using results from [Wong and Keller (2017)](https://agupubs.onlinelibrary.wiley.com/doi/abs/10.1002/2017EF000607)\n",
    "* Uses local sea level fingerprints of [Slangen et al. (2014)](https://link.springer.com/article/10.1007/s10584-014-1080-9)\n",
    "* User-defined latitude/longitude for local sea level\n",
    "* Result is a netCDF file of localized annual mean sea levels\n",
    "* Include or not include sudden, rapid sea-level contribution from the Antarctic ice sheet (AIS fast dynamics)\n",
    "* Include any of RCP2.6, 4.5, 6.0 and 8.5\n",
    "\n",
    "Question?  I'm always happy to chat!  Tony Wong (<anthony.e.wong@colorado.edu>)"
   ]
  },
  {
   "cell_type": "markdown",
   "metadata": {},
   "source": [
    "---\n",
    "\n",
    "## Location\n",
    "\n",
    "Where would you like localized projections?  Enter latitude and longitude as degrees north and degrees east. Here, we demonstrate using the latitude and longitude coordinates of Norfolk, Virginia (USA)."
   ]
  },
  {
   "cell_type": "code",
   "execution_count": 1,
   "metadata": {
    "collapsed": true
   },
   "outputs": [],
   "source": [
    "lat <- 37    # degrees North\n",
    "lon <- -76   # degrees East"
   ]
  },
  {
   "cell_type": "markdown",
   "metadata": {},
   "source": [
    "## BRICK output file\n",
    "\n",
    "Which BRICK output file would you like? Defaults to the results from Wong and Keller (2017) using `gamma` prior distributions for the Antarctic ice sheet fast dynamics parameters (as in [Wong et al. (2017)](https://link.springer.com/article/10.1007/s10584-017-2039-4)), but you could change this to other BRICK output files if you would like.  This path is assumed relative to the BRICK home directory."
   ]
  },
  {
   "cell_type": "code",
   "execution_count": 2,
   "metadata": {
    "collapsed": true
   },
   "outputs": [],
   "source": [
    "filename.brick <- paste('output_model/BRICK_physical_fd-gamma_08May2017.nc', sep='')"
   ]
  },
  {
   "cell_type": "markdown",
   "metadata": {},
   "source": [
    "### Antarctic fast dynamics\n",
    "\n",
    "If you want projections that do not include the Antarctic ice sheet fast dynamics contributions, the set this to FALSE."
   ]
  },
  {
   "cell_type": "code",
   "execution_count": 3,
   "metadata": {
    "collapsed": true
   },
   "outputs": [],
   "source": [
    "use_fastdynamics <- TRUE"
   ]
  },
  {
   "cell_type": "markdown",
   "metadata": {},
   "source": [
    "Do a check to see if the requested file is local.  If not, go grab it from download server. Check out the `GrabOutputFiles.R` routine, and the model output in the `output_model` directory for some ideas.\n",
    "\n",
    "Note that the `list.files` function does not prepend the file name and directory path with `./` or anything like that. Doing so will confuse it. So, just start with the directory/file name."
   ]
  },
  {
   "cell_type": "code",
   "execution_count": 4,
   "metadata": {},
   "outputs": [
    {
     "name": "stdout",
     "output_type": "stream",
     "text": [
      "[1] \"Found file! Proceeding with projections.\"\n"
     ]
    }
   ],
   "source": [
    "files <- list.files(recursive=TRUE)\n",
    "ifile <- which(files==filename.brick)\n",
    "found <- length(ifile) > 0\n",
    "\n",
    "# Check if the file is found\n",
    "if(found) {\n",
    "    print('Found file! Proceeding with projections.')\n",
    "} else {\n",
    "    print(paste('File ',filename.brick,' not found. Check the spelling, or go grab it from the download server...', sep=''))\n",
    "}"
   ]
  },
  {
   "cell_type": "markdown",
   "metadata": {},
   "source": [
    "## Read the results file\n",
    "\n",
    "Edit here the `rcps` variable if you only want a particular subset of the RCP scenarios. And we will initialize lists for the global mean sea level, local sea level, Antarctic ice sheet contribution to sea level, Greenland ice sheet contribution to sea level, glaciers and ice caps contribution to sea level, thermal expansion contribution to sea level, land water storage contribution to sea level, global mean temperature, and ocean heat uptake."
   ]
  },
  {
   "cell_type": "code",
   "execution_count": 5,
   "metadata": {},
   "outputs": [],
   "source": [
    "# make sure ncdf4 package is installed; install it, if not\n",
    "if('ncdf4' %in% rownames(installed.packages()) == FALSE) {install.packages('ncdf4')}\n",
    "library(ncdf4)\n",
    "\n",
    "# make projections for all 4 RCP scenarios\n",
    "rcps <- c('RCP26','RCP45','RCP60','RCP85'); n.rcp <- length(rcps)\n",
    "\n",
    "# initialize lists for model output\n",
    "gmsl <- lsl <- ais <- gis <- gsic <- \n",
    "            te <- lws <- temp <- ocheat <- vector('list', n.rcp)\n",
    "\n",
    "# the first level of each list will be for each RCP scenario's projections\n",
    "# of that quantity\n",
    "names(gmsl) <- names(lsl) <- names(ais) <- names(gis) <- names(gsic) <- \n",
    "            names(te) <- names(lws) <- names(temp) <- names(ocheat) <- rcps\n",
    "\n",
    "ncdata <- nc_open(filename.brick)\n",
    "\n",
    "for (rcp in rcps) {\n",
    "    gmsl[[rcp]]   <- ncvar_get(ncdata, paste('GlobalSeaLevel_',rcp, sep=''))\n",
    "    ais[[rcp]]    <- ncvar_get(ncdata, paste('AIS_',rcp, sep=''))\n",
    "    gis[[rcp]]    <- ncvar_get(ncdata, paste('GIS_',rcp, sep=''))\n",
    "    gsic[[rcp]]   <- ncvar_get(ncdata, paste('GSIC_',rcp, sep=''))\n",
    "    te[[rcp]]     <- ncvar_get(ncdata, paste('TE_',rcp, sep=''))\n",
    "    lws[[rcp]]    <- ncvar_get(ncdata, paste('LWS_',rcp, sep=''))\n",
    "    temp[[rcp]]   <- ncvar_get(ncdata, paste('temp_',rcp, sep=''))\n",
    "    ocheat[[rcp]] <- ncvar_get(ncdata, paste('ocheat_',rcp, sep=''))\n",
    "    if(!use_fastdynamics) {\n",
    "        gmsl_nofd   <- ncvar_get(ncdata, paste('GlobalSeaLevel_nofd_',rcp, sep=''))\n",
    "        ais[[rcp]]  <- ais[[rcp]] - (gmsl[[rcp]] - gmsl_nofd)\n",
    "        gmsl[[rcp]] <- gmsl_nofd\n",
    "    }\n",
    "}\n",
    "\n",
    "t.proj     <- ncvar_get(ncdata, 'time_proj')\n",
    "n.ensemble <- length(ncvar_get(ncdata, 'ens'))\n",
    "\n",
    "nc_close(ncdata)"
   ]
  },
  {
   "cell_type": "markdown",
   "metadata": {},
   "source": [
    "## Local fingerprinting\n",
    "\n",
    "Load the global fingerprinting data set (Slangen et al 2014)"
   ]
  },
  {
   "cell_type": "code",
   "execution_count": 6,
   "metadata": {
    "collapsed": true
   },
   "outputs": [],
   "source": [
    "filename.fingerprints = './fingerprints/FINGERPRINTS_SLANGEN_Bakker.nc'\n",
    "\n",
    "ncdata  <- nc_open(filename.fingerprints)\n",
    "lat.fp  <- ncvar_get(ncdata, 'lat')\n",
    "lon.fp  <- ncvar_get(ncdata, 'lon')\n",
    "fp.gsic <- ncvar_get(ncdata, 'GLAC')\n",
    "fp.gis  <- ncvar_get(ncdata, 'GIS')\n",
    "fp.ais  <- ncvar_get(ncdata, 'AIS')\n",
    "nc_close(ncdata)"
   ]
  },
  {
   "cell_type": "markdown",
   "metadata": {},
   "source": [
    "### Get local fingerprints\n",
    "\n",
    "Convert the given latitude and longitude to degrees East/North, and find the fingerprinting data set location closest to the local sea level lat/lon given."
   ]
  },
  {
   "cell_type": "code",
   "execution_count": 7,
   "metadata": {
    "collapsed": true
   },
   "outputs": [],
   "source": [
    "if(lon < 0) {lon <- lon + 360}  # convert longitude to degrees East\n",
    "ilat <- which( abs(lat.fp-lat)==min(abs(lat.fp-lat)) )\n",
    "ilon <- which( abs(lon.fp-lon)==min(abs(lon.fp-lon)) )"
   ]
  },
  {
   "cell_type": "markdown",
   "metadata": {},
   "source": [
    "It is possible there were multiple lats/lons 'closest' to your given point. In this case, take the average of the ones that are actually numbers."
   ]
  },
  {
   "cell_type": "code",
   "execution_count": 8,
   "metadata": {
    "collapsed": true
   },
   "outputs": [],
   "source": [
    "fp.ais.loc <- mean(fp.ais[ilon,ilat],na.rm=TRUE)\n",
    "fp.gsic.loc <- mean(fp.gsic[ilon,ilat],na.rm=TRUE)\n",
    "fp.gis.loc <- mean(fp.gis[ilon,ilat],na.rm=TRUE)\n",
    "fp.te.loc <- 1.0   # TE response is to global mean temperature, so global mean sea level response is same everywhere\n",
    "fp.lws.loc <- 1.0  # assume LWS changes uniformly (likely not quite true,\n",
    "                   # but a small contribution anyway)"
   ]
  },
  {
   "cell_type": "markdown",
   "metadata": {},
   "source": [
    "Check if the nearest spot ended up on land. If it did, take the average everywhere around the location."
   ]
  },
  {
   "cell_type": "code",
   "execution_count": 9,
   "metadata": {
    "collapsed": true
   },
   "outputs": [],
   "source": [
    "if(is.na(fp.ais.loc) | is.na(fp.gsic.loc) | is.na(fp.gis.loc) | is.na(fp.te.loc)) {\n",
    "    fp.ais.loc <- mean(fp.ais[(ilon-1):(ilon+1),(ilat-1):(ilat+1)], na.rm=TRUE)\n",
    "    fp.gsic.loc <- mean(fp.gsic[(ilon-1):(ilon+1),(ilat-1):(ilat+1)], na.rm=TRUE)\n",
    "    fp.gis.loc <- mean(fp.gis[(ilon-1):(ilon+1),(ilat-1):(ilat+1)], na.rm=TRUE)\n",
    "    fp.te.loc <- 1.0\n",
    "    fp.lws.loc <- 1.0\n",
    "}"
   ]
  },
  {
   "cell_type": "markdown",
   "metadata": {},
   "source": [
    "If there is still something wrong, probably the desired lat/lon location is accidentally not near the coast."
   ]
  },
  {
   "cell_type": "code",
   "execution_count": 10,
   "metadata": {
    "collapsed": true
   },
   "outputs": [],
   "source": [
    "if(is.na(fp.ais.loc) | is.na(fp.gsic.loc) | is.na(fp.gis.loc) | is.na(fp.te.loc)) {\n",
    "    print('WARNING -- local sea level fingerprints are NaN. Is the lat/lon point possibly over land?')\n",
    "}"
   ]
  },
  {
   "cell_type": "markdown",
   "metadata": {},
   "source": [
    "## Calculate local sea level"
   ]
  },
  {
   "cell_type": "code",
   "execution_count": 11,
   "metadata": {
    "collapsed": true
   },
   "outputs": [],
   "source": [
    "for (rcp in rcps) {\n",
    "    lsl[[rcp]] <- mat.or.vec(nr=nrow(gmsl[[rcp]]), nc=ncol(gmsl[[rcp]]))\n",
    "    for (sow in 1:n.ensemble) {\n",
    "        lsl[[rcp]][,sow] <- fp.gis.loc  * gis[[rcp]][,sow]  +\n",
    "                            fp.ais.loc  * ais[[rcp]][,sow]  +\n",
    "                            fp.gsic.loc * gsic[[rcp]][,sow] +\n",
    "                            fp.te.loc   * te[[rcp]][,sow]   +\n",
    "                            fp.lws.loc  * lws[[rcp]][,sow]\n",
    "    }\n",
    "}"
   ]
  },
  {
   "cell_type": "markdown",
   "metadata": {},
   "source": [
    "### Reference period\n",
    "\n",
    "Check that all sea-level projections and temperatures are relative to 1986-2005 means. Or change this to whatever you want the reference period to be.  Set `reference_period` to the beginning and ending years of whatever reference period you would like!  Must be within the 1850-2100 simulation years."
   ]
  },
  {
   "cell_type": "code",
   "execution_count": 12,
   "metadata": {
    "collapsed": true
   },
   "outputs": [],
   "source": [
    "reference.period <- c(1986, 2005)\n",
    "\n",
    "ind.norm <- which(t.proj==reference.period[1]):which(t.proj==reference.period[2])\n",
    "\n",
    "for (rcp in rcps) {\n",
    "    lsl[[rcp]] <- lsl[[rcp]] - matrix(apply(X=lsl[[rcp]][ind.norm,], MARGIN=2, FUN=mean), \n",
    "                                      nrow=length(t.proj), ncol=n.ensemble, byrow=TRUE)\n",
    "}"
   ]
  },
  {
   "cell_type": "markdown",
   "metadata": {},
   "source": [
    "## Write output file\n",
    "\n",
    "Start by giving it a nice name."
   ]
  },
  {
   "cell_type": "code",
   "execution_count": 13,
   "metadata": {
    "collapsed": true
   },
   "outputs": [],
   "source": [
    "filename.output <- './output_model/projections_norfolk.nc'"
   ]
  },
  {
   "cell_type": "markdown",
   "metadata": {},
   "source": [
    "Now create the actual file:"
   ]
  },
  {
   "cell_type": "code",
   "execution_count": 14,
   "metadata": {
    "collapsed": true
   },
   "outputs": [],
   "source": [
    "dim.tproj    <- ncdim_def('time_proj', 'years', as.double(t.proj))\n",
    "dim.lat      <- ncdim_def('lat', 'deg N', as.double(length(lat)))\n",
    "dim.lon      <- ncdim_def('lon', 'deg E', as.double(length(lon)))\n",
    "dim.ensemble <- ncdim_def('ens', 'ensemble member', as.double(1:ncol(lsl[[1]])), unlim=TRUE)\n",
    "\n",
    "def.lat <- ncvar_def('lat.lsl', 'deg N', list(dim.lat), -999, longname = 'latitude of local sea level point')\n",
    "def.lon <- ncvar_def('lon.lsl', 'deg E', list(dim.lon), -999, longname = 'longitude of local sea level point')\n",
    "\n",
    "def.lsl <- vector('list', n.rcp); names(def.lsl) <- rcps\n",
    "for (rcp in rcps) {\n",
    "    def.lsl[[rcp]] <- ncvar_def(paste('LocalSeaLevel_',rcp, sep=''), 'meters', \n",
    "                                list(dim.tproj, dim.ensemble), -999, longname = paste('Local sea level ',rcp, sep=''))\n",
    "}\n",
    "\n",
    "outlist = list()\n",
    "for (i in 1:n.rcp) {\n",
    "    outlist[[i]] <- def.lsl[[i]]\n",
    "}\n",
    "outlist[[i+1]] <- def.lat\n",
    "outlist[[i+2]] <- def.lon\n",
    "\n",
    "outnc <- nc_create(filename.output, outlist, force_v4=TRUE)\n",
    "\n",
    "ncvar_put(outnc, def.lat, lat)\n",
    "ncvar_put(outnc, def.lon, lon)\n",
    "for (rcp in rcps) {\n",
    "    ncvar_put(outnc, def.lsl[[rcp]], lsl[[rcp]])\n",
    "}\n",
    "\n",
    "nc_close(outnc)"
   ]
  },
  {
   "cell_type": "markdown",
   "metadata": {
    "collapsed": true
   },
   "source": [
    "## Sample plots\n",
    "\n",
    "Below are a couple of sample plots using the BRICK projections from Wong and Keller (2017) for analyses. Feel free to use the codes and model output as you would like, with the usual GPL license caveats, and please remember to cite any relevant works.\n",
    "\n",
    "### Probability distribution estimates\n",
    "\n",
    "Here is an example plot of the estimated probability distributions of global mean sea level in 2100, relative to 1986-2005 global mean sea level, for each of the four RCP scenarios."
   ]
  },
  {
   "cell_type": "code",
   "execution_count": 15,
   "metadata": {},
   "outputs": [],
   "source": [
    "# first, fit kernel density estimates to each of the projections\n",
    "kde26 <- density(lsl$RCP26[251,])\n",
    "kde45 <- density(lsl$RCP45[251,])\n",
    "kde60 <- density(lsl$RCP60[251,])\n",
    "kde85 <- density(lsl$RCP85[251,])"
   ]
  },
  {
   "cell_type": "code",
   "execution_count": 16,
   "metadata": {},
   "outputs": [
    {
     "data": {
      "image/png": "[encoded data removed]",
      "text/plain": [
       "Plot with title “Norfolk, Virginia”"
      ]
     },
     "metadata": {},
     "output_type": "display_data"
    }
   ],
   "source": [
    "# now, a figure!\n",
    "options(repr.plot.width=3.5, repr.plot.height=3)\n",
    "par(mfrow=c(1,1), mai=c(1,1,.2,.2))\n",
    "plot(kde85$x, kde85$y, type='l', lwd=2, lty=2, xlim=c(0,2.5), ylim=c(0,5.1),\n",
    "     xaxt='n', yaxt='n', ylab='', yaxs='i', main='Norfolk, Virginia',\n",
    "     xlab='2100 sea level, relative\\nto 1986-2005 mean [m]')\n",
    "lines(kde60$x, kde60$y, lty=3, lwd=2)\n",
    "lines(kde45$x, kde45$y, lty=1, lwd=2)\n",
    "lines(kde26$x, kde26$y, lty=4, lwd=2)\n",
    "axis(1,seq(0,2.5,.5),lab=c(\"0\",\"0.5\",\"1\",\"1.5\",\"2\",\"2.5\"))\n",
    "mtext('Density', side=2, line=1, cex=1)\n",
    "legend(1.5,5,c(\"RCP2.6\",\"RCP4.5\",\"RCP6.0\",\"RCP8.5\"),\n",
    "       lty=c(4,1,3,2), lwd=1, cex=0.9, bty='n', y.intersp=3)"
   ]
  },
  {
   "cell_type": "markdown",
   "metadata": {},
   "source": [
    "### Probabilistic projections\n",
    "\n",
    "Here is an example plot of the sea level and temperature trajectories under the RCP8.5 scenario."
   ]
  },
  {
   "cell_type": "code",
   "execution_count": 17,
   "metadata": {
    "collapsed": true
   },
   "outputs": [],
   "source": [
    "# first, get the ensemble median and 5-95% range for each year for the projections\n",
    "\n",
    "# indices for the projections from 2000 to 2100\n",
    "idx <- which(t.proj >= 2000)\n",
    "\n",
    "# initialize\n",
    "lsl.q <- mat.or.vec(length(idx), 3)\n",
    "temp.q <- mat.or.vec(length(idx), 3)\n",
    "\n",
    "# calculate quantiles over the projections period\n",
    "for (iy in 1:length(idx)) {\n",
    "    lsl.q[iy,1] <- quantile(lsl$RCP85[idx[iy],], 0.05)\n",
    "    lsl.q[iy,2] <- quantile(lsl$RCP85[idx[iy],], 0.50)\n",
    "    lsl.q[iy,3] <- quantile(lsl$RCP85[idx[iy],], 0.95)\n",
    "    temp.q[iy,1] <- quantile(temp$RCP85[idx[iy],], 0.05)\n",
    "    temp.q[iy,2] <- quantile(temp$RCP85[idx[iy],], 0.50)\n",
    "    temp.q[iy,3] <- quantile(temp$RCP85[idx[iy],], 0.95)\n",
    "}"
   ]
  },
  {
   "cell_type": "code",
   "execution_count": 18,
   "metadata": {},
   "outputs": [
    {
     "data": {
      "image/png": "[encoded data removed]",
      "text/plain": [
       "Plot with title “”"
      ]
     },
     "metadata": {},
     "output_type": "display_data"
    }
   ],
   "source": [
    "# now... a figure!\n",
    "options(repr.plot.width=8, repr.plot.height=3)\n",
    "par(mfrow=c(1,2), mai=c(1,.75,.2,.2))\n",
    "plot(t.proj[idx], lsl.q[,2], type='l', lwd=2, xlab='', ylab='', main='',\n",
    "     ylim=c(0,1.6), xaxt='n', yaxt='n', xaxs='i')\n",
    "lines(t.proj[idx], lsl.q[,1], lwd=2, lty=2)\n",
    "lines(t.proj[idx], lsl.q[,3], lwd=2, lty=2)\n",
    "axis(1,seq(2000,2100,20))\n",
    "axis(2,seq(0,1.5,0.25),c('0','','0.5','','1','','1.5'))\n",
    "mtext('Year', side=1, line=2.2, cex=1)\n",
    "mtext('Sea level [m]', side=2, line=2.2, cex=1)\n",
    "legend(2000,1.6,c(\"Median\",\"5-95% range\"),\n",
    "       lty=c(1,2), lwd=1, cex=0.9, bty='n', y.intersp=3)\n",
    "\n",
    "plot(t.proj[idx], temp.q[,2], type='l', lwd=2, xlab='', ylab='', main='',\n",
    "     ylim=c(0, 5), xaxt='n', yaxt='n', xaxs='i')\n",
    "lines(t.proj[idx], temp.q[,1], lwd=2, lty=2)\n",
    "lines(t.proj[idx], temp.q[,3], lwd=2, lty=2)\n",
    "axis(1,seq(2000,2100,20))\n",
    "axis(2,seq(0,5,1))\n",
    "mtext('Year', side=1, line=2.2, cex=1)\n",
    "mtext('Temperature [deg C]', side=2, line=2.2, cex=1)\n",
    "legend(2000,5,c(\"Median\",\"5-95% range\"),\n",
    "       lty=c(1,2), lwd=1, cex=0.9, bty='n', y.intersp=3)"
   ]
  },
  {
   "cell_type": "code",
   "execution_count": null,
   "metadata": {
    "collapsed": true
   },
   "outputs": [],
   "source": []
  }
 ],
 "metadata": {
  "kernelspec": {
   "display_name": "R",
   "language": "R",
   "name": "ir"
  },
  "language_info": {
   "codemirror_mode": "r",
   "file_extension": ".r",
   "mimetype": "text/x-r-source",
   "name": "R",
   "pygments_lexer": "r",
   "version": "3.4.1"
  }
 },
 "nbformat": 4,
 "nbformat_minor": 2
}
